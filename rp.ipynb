{
 "cells": [
  {
   "cell_type": "code",
   "execution_count": 4,
   "metadata": {},
   "outputs": [
    {
     "data": {
      "text/plain": [
       "array([ 3,  6,  9, 12, 15, 18])"
      ]
     },
     "execution_count": 4,
     "metadata": {},
     "output_type": "execute_result"
    }
   ],
   "source": [
    "#import pandas library\n",
    "import pandas as pd\n",
    "\n",
    "#make an array\n",
    "array = [3, 6, 9, 12, 15, 18]\n",
    "\n",
    "#create a series\n",
    "series_obj = pd.Series(array)\n",
    "\n",
    "#convert series object into array\n",
    "arr = series_obj.values\n",
    "\n",
    "arr"
   ]
  },
  {
   "cell_type": "code",
   "execution_count": 5,
   "metadata": {},
   "outputs": [
    {
     "data": {
      "text/plain": [
       "array([[ 3,  6],\n",
       "       [ 9, 12],\n",
       "       [15, 18]])"
      ]
     },
     "execution_count": 5,
     "metadata": {},
     "output_type": "execute_result"
    }
   ],
   "source": [
    "#reshaping series\n",
    "reshaped_arr = arr.reshape((3,2))\n",
    "\n",
    "#show\n",
    "reshaped_arr"
   ]
  },
  {
   "cell_type": "code",
   "execution_count": 6,
   "metadata": {},
   "outputs": [
    {
     "name": "stdout",
     "output_type": "stream",
     "text": [
      "Given Series:\n",
      " 0     Nilay\n",
      "1    Dinesh\n",
      "2    Sachin\n",
      "3    Prachi\n",
      "4      Onya\n",
      "5    Sonali\n",
      "dtype: object\n"
     ]
    },
    {
     "data": {
      "text/plain": [
       "array(['Nilay', 'Dinesh', 'Sachin', 'Prachi', 'Onya', 'Sonali'],\n",
       "      dtype=object)"
      ]
     },
     "execution_count": 6,
     "metadata": {},
     "output_type": "execute_result"
    }
   ],
   "source": [
    "#import pandas library\n",
    "import pandas as pd\n",
    "\n",
    "#make an array\n",
    "array = [\"Nilay\", \"Dinesh\", \"Sachin\", \"Prachi\", \"Onya\", \"Sonali\"]\n",
    "\n",
    "#create a series\n",
    "series_obj = pd.Series(array)\n",
    "\n",
    "print(\"Given Series:\\n\", series_obj)\n",
    "\n",
    "#convert series object into array\n",
    "arr = series_obj.values\n",
    "\n",
    "arr"
   ]
  },
  {
   "cell_type": "code",
   "execution_count": 10,
   "metadata": {},
   "outputs": [
    {
     "name": "stdout",
     "output_type": "stream",
     "text": [
      "After Reshaping: \n",
      " [['Nilay' 'Dinesh']\n",
      " ['Sachin' 'Prachi']\n",
      " ['Onya' 'Sonali']]\n"
     ]
    }
   ],
   "source": [
    "#reshaping series\n",
    "reshaped_arr = arr.reshape((3,2))\n",
    "\n",
    "#show\n",
    "print(\"After Reshaping: \\n\", reshaped_arr)"
   ]
  },
  {
   "cell_type": "code",
   "execution_count": 12,
   "metadata": {},
   "outputs": [
    {
     "data": {
      "text/html": [
       "<div>\n",
       "<style scoped>\n",
       "    .dataframe tbody tr th:only-of-type {\n",
       "        vertical-align: middle;\n",
       "    }\n",
       "\n",
       "    .dataframe tbody tr th {\n",
       "        vertical-align: top;\n",
       "    }\n",
       "\n",
       "    .dataframe thead th {\n",
       "        text-align: right;\n",
       "    }\n",
       "</style>\n",
       "<table border=\"1\" class=\"dataframe\">\n",
       "  <thead>\n",
       "    <tr style=\"text-align: right;\">\n",
       "      <th></th>\n",
       "      <th>Name</th>\n",
       "      <th>Qualification</th>\n",
       "      <th>Age</th>\n",
       "    </tr>\n",
       "  </thead>\n",
       "  <tbody>\n",
       "    <tr>\n",
       "      <th>0</th>\n",
       "      <td>Nilay</td>\n",
       "      <td>Masters</td>\n",
       "      <td>25</td>\n",
       "    </tr>\n",
       "    <tr>\n",
       "      <th>1</th>\n",
       "      <td>Sachin</td>\n",
       "      <td>Masters</td>\n",
       "      <td>27</td>\n",
       "    </tr>\n",
       "    <tr>\n",
       "      <th>2</th>\n",
       "      <td>Dinesh</td>\n",
       "      <td>Graduate</td>\n",
       "      <td>30</td>\n",
       "    </tr>\n",
       "    <tr>\n",
       "      <th>3</th>\n",
       "      <td>Onya</td>\n",
       "      <td>Masters</td>\n",
       "      <td>21</td>\n",
       "    </tr>\n",
       "    <tr>\n",
       "      <th>4</th>\n",
       "      <td>Prachi</td>\n",
       "      <td>Graduate</td>\n",
       "      <td>22</td>\n",
       "    </tr>\n",
       "    <tr>\n",
       "      <th>5</th>\n",
       "      <td>Sonali</td>\n",
       "      <td>Masters</td>\n",
       "      <td>20</td>\n",
       "    </tr>\n",
       "  </tbody>\n",
       "</table>\n",
       "</div>"
      ],
      "text/plain": [
       "     Name Qualification  Age\n",
       "0   Nilay       Masters   25\n",
       "1  Sachin       Masters   27\n",
       "2  Dinesh      Graduate   30\n",
       "3    Onya       Masters   21\n",
       "4  Prachi      Graduate   22\n",
       "5  Sonali       Masters   20"
      ]
     },
     "execution_count": 12,
     "metadata": {},
     "output_type": "execute_result"
    }
   ],
   "source": [
    "#create a simple DataFrame\n",
    "\n",
    "#importing pandas as pd\n",
    "import pandas as pd\n",
    "\n",
    "#creating a dataframe\n",
    "df = pd.DataFrame({'Name': ['Nilay', 'Sachin', 'Dinesh', 'Onya', 'Prachi', 'Sonali'],\n",
    "                   'Qualification': ['Masters', 'Masters', 'Graduate', 'Masters', 'Graduate', 'Masters'],\n",
    "                   'Age': [25, 27, 30, 21, 22, 20]})\n",
    "\n",
    "df"
   ]
  },
  {
   "cell_type": "code",
   "execution_count": 15,
   "metadata": {},
   "outputs": [
    {
     "data": {
      "text/html": [
       "<div>\n",
       "<style scoped>\n",
       "    .dataframe tbody tr th:only-of-type {\n",
       "        vertical-align: middle;\n",
       "    }\n",
       "\n",
       "    .dataframe tbody tr th {\n",
       "        vertical-align: top;\n",
       "    }\n",
       "\n",
       "    .dataframe thead tr th {\n",
       "        text-align: left;\n",
       "    }\n",
       "\n",
       "    .dataframe thead tr:last-of-type th {\n",
       "        text-align: right;\n",
       "    }\n",
       "</style>\n",
       "<table border=\"1\" class=\"dataframe\">\n",
       "  <thead>\n",
       "    <tr>\n",
       "      <th></th>\n",
       "      <th colspan=\"2\" halign=\"left\">Age</th>\n",
       "      <th colspan=\"2\" halign=\"left\">Name</th>\n",
       "    </tr>\n",
       "    <tr>\n",
       "      <th>Qualification</th>\n",
       "      <th>Graduate</th>\n",
       "      <th>Masters</th>\n",
       "      <th>Graduate</th>\n",
       "      <th>Masters</th>\n",
       "    </tr>\n",
       "    <tr>\n",
       "      <th>Name</th>\n",
       "      <th></th>\n",
       "      <th></th>\n",
       "      <th></th>\n",
       "      <th></th>\n",
       "    </tr>\n",
       "  </thead>\n",
       "  <tbody>\n",
       "    <tr>\n",
       "      <th>Dinesh</th>\n",
       "      <td>30</td>\n",
       "      <td>NaN</td>\n",
       "      <td>Dinesh</td>\n",
       "      <td>NaN</td>\n",
       "    </tr>\n",
       "    <tr>\n",
       "      <th>Nilay</th>\n",
       "      <td>NaN</td>\n",
       "      <td>25</td>\n",
       "      <td>NaN</td>\n",
       "      <td>Nilay</td>\n",
       "    </tr>\n",
       "    <tr>\n",
       "      <th>Onya</th>\n",
       "      <td>NaN</td>\n",
       "      <td>21</td>\n",
       "      <td>NaN</td>\n",
       "      <td>Onya</td>\n",
       "    </tr>\n",
       "    <tr>\n",
       "      <th>Prachi</th>\n",
       "      <td>22</td>\n",
       "      <td>NaN</td>\n",
       "      <td>Prachi</td>\n",
       "      <td>NaN</td>\n",
       "    </tr>\n",
       "    <tr>\n",
       "      <th>Sachin</th>\n",
       "      <td>NaN</td>\n",
       "      <td>27</td>\n",
       "      <td>NaN</td>\n",
       "      <td>Sachin</td>\n",
       "    </tr>\n",
       "    <tr>\n",
       "      <th>Sonali</th>\n",
       "      <td>NaN</td>\n",
       "      <td>20</td>\n",
       "      <td>NaN</td>\n",
       "      <td>Sonali</td>\n",
       "    </tr>\n",
       "  </tbody>\n",
       "</table>\n",
       "</div>"
      ],
      "text/plain": [
       "                   Age             Name        \n",
       "Qualification Graduate Masters Graduate Masters\n",
       "Name                                           \n",
       "Dinesh              30     NaN   Dinesh     NaN\n",
       "Nilay              NaN      25      NaN   Nilay\n",
       "Onya               NaN      21      NaN    Onya\n",
       "Prachi              22     NaN   Prachi     NaN\n",
       "Sachin             NaN      27      NaN  Sachin\n",
       "Sonali             NaN      20      NaN  Sonali"
      ]
     },
     "execution_count": 15,
     "metadata": {},
     "output_type": "execute_result"
    }
   ],
   "source": [
    "#values can be an object or a list\n",
    "df.pivot(index='Name', columns='Qualification', values= ['Age', 'Name'])"
   ]
  },
  {
   "cell_type": "code",
   "execution_count": 17,
   "metadata": {},
   "outputs": [
    {
     "name": "stdout",
     "output_type": "stream",
     "text": [
      "Dataset\n",
      "      Name  Gender  Age\n",
      "0    Nilay    Male   25\n",
      "1   Dinesh    Male   25\n",
      "2   Sachin    Male   27\n",
      "3     Onya  Female   20\n",
      "4   Sonali  Female   21\n",
      "5   Prachi  Female   22\n",
      "6  Anushka  Female   23\n",
      "----------------------------------------\n"
     ]
    }
   ],
   "source": [
    "#the pivot table has been created for the given dataset where the gender, percentage\n",
    "#has been calculated\n",
    "\n",
    "#importing pandas\n",
    "import pandas as pd\n",
    "\n",
    "#creating dataframe\n",
    "df = pd.DataFrame({'Name': ['Nilay', 'Dinesh', 'Sachin', 'Onya', 'Sonali', 'Prachi', 'Anushka'],\n",
    "                   'Gender': ['Male', 'Male', 'Male', 'Female', 'Female', 'Female', 'Female'],\n",
    "                   'Age': [25, 25, 27, 20, 21, 22, 23]})\n",
    "\n",
    "print(\"Dataset\")\n",
    "print(df)\n",
    "print(\"-\"*40)\n",
    "\n",
    "#categorizing in age groups\n",
    "def age_bucket(age):\n",
    "    if age <= 22:\n",
    "        return \"<22\"\n",
    "    else:\n",
    "        return \">22\"\n",
    "    \n",
    "\n",
    "    "
   ]
  },
  {
   "cell_type": "code",
   "execution_count": 27,
   "metadata": {},
   "outputs": [
    {
     "name": "stdout",
     "output_type": "stream",
     "text": [
      "Table\n",
      "                  Name\n",
      "Gender Age Group      \n",
      "Female <22           3\n",
      "       >22           1\n",
      "Male   >22           3\n"
     ]
    }
   ],
   "source": [
    "# Assuming you have defined the age_bucket function somewhere above\n",
    "df['Age Group'] = df['Age'].apply(age_bucket)\n",
    "\n",
    "# Calculating gender percentage\n",
    "gender = pd.DataFrame(df.Gender.value_counts(normalize=True) * 100).reset_index()\n",
    "gender.columns = ['Gender', '%Gender']\n",
    "df = pd.merge(left=df, right=gender, how='inner', on=['Gender'], suffixes=('', '_gender'))\n",
    "\n",
    "# Creating pivot table with MultiIndex\n",
    "table = pd.pivot_table(df, index=['Gender', 'Age Group'], values=['Name'], aggfunc={'Name': 'count'})\n",
    "\n",
    "# Displaying the table\n",
    "print(\"Table\")\n",
    "print(table)\n"
   ]
  },
  {
   "cell_type": "code",
   "execution_count": null,
   "metadata": {},
   "outputs": [],
   "source": []
  }
 ],
 "metadata": {
  "kernelspec": {
   "display_name": "Python 3",
   "language": "python",
   "name": "python3"
  },
  "language_info": {
   "codemirror_mode": {
    "name": "ipython",
    "version": 3
   },
   "file_extension": ".py",
   "mimetype": "text/x-python",
   "name": "python",
   "nbconvert_exporter": "python",
   "pygments_lexer": "ipython3",
   "version": "3.10.12"
  },
  "orig_nbformat": 4
 },
 "nbformat": 4,
 "nbformat_minor": 2
}
