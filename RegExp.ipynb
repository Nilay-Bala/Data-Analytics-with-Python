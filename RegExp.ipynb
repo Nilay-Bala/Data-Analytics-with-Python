{
  "cells": [
    {
      "cell_type": "code",
      "execution_count": 1,
      "metadata": {
        "trusted": true
      },
      "outputs": [
        {
          "name": "stdout",
          "output_type": "stream",
          "text": [
            "['The']\n",
            "Yes, there is a match!\n"
          ]
        }
      ],
      "source": [
        "import re\n",
        "txt = \"The rain in Spain\"\n",
        "\n",
        "#check if the string starts wit \"The\":\n",
        "x = re.findall(\"\\AThe\", txt)\n",
        "print(x)\n",
        "if x:\n",
        "  print(\"Yes, there is a match!\")\n",
        "else:\n",
        "  print(\"No match\")"
      ]
    },
    {
      "cell_type": "code",
      "execution_count": 2,
      "metadata": {
        "trusted": true
      },
      "outputs": [
        {
          "name": "stdout",
          "output_type": "stream",
          "text": [
            "<re.Match object; span=(21, 27), match='portal'>\n",
            "portal\n",
            "Start Index: 21\n",
            "End Index: 27\n"
          ]
        }
      ],
      "source": [
        "match = re.search(r'portal', 'A computer science \\ portal for Education')\n",
        "print(match)\n",
        "print(match.group())\n",
        "print('Start Index:', match.start())\n",
        "print('End Index:', match.end())"
      ]
    },
    {
      "cell_type": "code",
      "execution_count": 42,
      "metadata": {
        "trusted": true
      },
      "outputs": [
        {
          "name": "stdout",
          "output_type": "stream",
          "text": [
            "['Education', 'education', 'education']\n"
          ]
        }
      ],
      "source": [
        "print(re.findall(r'[Ee]ducation', 'Education of education: \\ A computer science portal for education'))"
      ]
    },
    {
      "cell_type": "code",
      "execution_count": 44,
      "metadata": {
        "trusted": true
      },
      "outputs": [
        {
          "name": "stdout",
          "output_type": "stream",
          "text": [
            "3\n",
            "4\n",
            "5\n"
          ]
        }
      ],
      "source": [
        "x = range(3, 6)\n",
        "for n in x:\n",
        " print(n)"
      ]
    },
    {
      "cell_type": "code",
      "execution_count": 45,
      "metadata": {
        "trusted": true
      },
      "outputs": [
        {
          "name": "stdout",
          "output_type": "stream",
          "text": [
            "3\n",
            "5\n",
            "7\n",
            "9\n",
            "11\n",
            "13\n",
            "15\n",
            "17\n",
            "19\n"
          ]
        }
      ],
      "source": [
        "x = range(3, 20, 2)\n",
        "for n in x:\n",
        " print(n)"
      ]
    },
    {
      "cell_type": "code",
      "execution_count": 46,
      "metadata": {
        "trusted": true
      },
      "outputs": [
        {
          "name": "stdout",
          "output_type": "stream",
          "text": [
            "None\n"
          ]
        }
      ],
      "source": [
        "print(re.search(r'[^a-z]', 'c'))"
      ]
    },
    {
      "cell_type": "code",
      "execution_count": 47,
      "metadata": {
        "trusted": true
      },
      "outputs": [
        {
          "name": "stdout",
          "output_type": "stream",
          "text": [
            "None\n"
          ]
        }
      ],
      "source": [
        "print(re.search(r'C[^l]', 'Class'))"
      ]
    },
    {
      "cell_type": "code",
      "execution_count": 49,
      "metadata": {
        "trusted": true
      },
      "outputs": [
        {
          "name": "stdout",
          "output_type": "stream",
          "text": [
            "Beg. of String: None\n",
            "Beg. of String: <re.Match object; span=(0, 2), match='is'>\n",
            "End of String: <re.Match object; span=(27, 36), match='education'>\n"
          ]
        }
      ],
      "source": [
        "match = re.search(r'^is', 'This is the month')\n",
        "print('Beg. of String:', match)\n",
        "match = re.search(r'^is', 'is the month')\n",
        "print('Beg. of String:', match)\n",
        "# End of String\n",
        "match = re.search(r'education$', 'Compute science portal for education')\n",
        "print('End of String:', match)"
      ]
    },
    {
      "cell_type": "code",
      "execution_count": 50,
      "metadata": {
        "trusted": true
      },
      "outputs": [
        {
          "name": "stdout",
          "output_type": "stream",
          "text": [
            "Any Character <re.Match object; span=(0, 6), match='python'>\n"
          ]
        }
      ],
      "source": [
        "print('Any Character', re.search(r'p.th.n', 'python 3'))"
      ]
    },
    {
      "cell_type": "code",
      "execution_count": 51,
      "metadata": {
        "trusted": true
      },
      "outputs": [
        {
          "name": "stdout",
          "output_type": "stream",
          "text": [
            "Color <re.Match object; span=(0, 5), match='color'>\n",
            "Colour <re.Match object; span=(0, 6), match='colour'>\n"
          ]
        }
      ],
      "source": [
        "print('Color',re.search(r'colou?r', 'color'))\n",
        "print('Colour',re.search(r'colou?r', 'colour'))"
      ]
    },
    {
      "cell_type": "code",
      "execution_count": 53,
      "metadata": {
        "trusted": true
      },
      "outputs": [
        {
          "name": "stdout",
          "output_type": "stream",
          "text": [
            "Date{mm-dd-yyyy}: <re.Match object; span=(0, 10), match='13-07-2023'>\n"
          ]
        }
      ],
      "source": [
        "print('Date{mm-dd-yyyy}:', re.search(r'[\\d]{2}-[\\d]{2}-[\\d]{4}','13-07-2023'))"
      ]
    },
    {
      "cell_type": "code",
      "execution_count": 54,
      "metadata": {
        "trusted": true
      },
      "outputs": [
        {
          "name": "stdout",
          "output_type": "stream",
          "text": [
            "Three Digit: <re.Match object; span=(0, 3), match='189'>\n",
            "Four Digit: <re.Match object; span=(0, 4), match='2145'>\n"
          ]
        }
      ],
      "source": [
        "print('Three Digit:', re.search(r'[\\d]{3,4}', '189'))\n",
        "print('Four Digit:', re.search(r'[\\d]{3,4}', '2145'))"
      ]
    },
    {
      "cell_type": "code",
      "execution_count": 55,
      "metadata": {
        "trusted": true
      },
      "outputs": [
        {
          "name": "stdout",
          "output_type": "stream",
          "text": [
            "<re.Match object; span=(0, 1), match='5'>\n"
          ]
        }
      ],
      "source": [
        "print(re.search(r'[\\d]{1,}','5th Floor, B-218,\\ Sector-136, Noida, Uttar Pradesh - 201405'))"
      ]
    },
    {
      "cell_type": "code",
      "execution_count": 56,
      "metadata": {
        "trusted": true
      },
      "outputs": [
        {
          "name": "stdout",
          "output_type": "stream",
          "text": [
            "<re.Match object; span=(0, 1), match='5'>\n"
          ]
        }
      ],
      "source": [
        "print(re.search(r'[\\d]+','5th Floor, B-218,\\ Sector-136, Noida, Uttar Pradesh - 201405'))"
      ]
    },
    {
      "cell_type": "code",
      "execution_count": 57,
      "metadata": {
        "trusted": true
      },
      "outputs": [
        {
          "name": "stdout",
          "output_type": "stream",
          "text": [
            "<re.Match object; span=(0, 10), match='12-07-2023'>\n"
          ]
        }
      ],
      "source": [
        "grp = re.search(r'([\\d]{2})-([\\d]{2})-([\\d]{4})', '12-07-2023')\n",
        "print(grp)"
      ]
    },
    {
      "cell_type": "code",
      "execution_count": 59,
      "metadata": {
        "trusted": true
      },
      "outputs": [
        {
          "name": "stdout",
          "output_type": "stream",
          "text": [
            "('14', '07', '2023')\n"
          ]
        }
      ],
      "source": [
        "grp = re.search(r'([\\d]{2})-([\\d]{2})-([\\d]{4})','14-07-2023')\n",
        "print(grp.groups())"
      ]
    },
    {
      "cell_type": "code",
      "execution_count": 60,
      "metadata": {
        "trusted": true
      },
      "outputs": [
        {
          "name": "stdout",
          "output_type": "stream",
          "text": [
            "2023\n"
          ]
        }
      ],
      "source": [
        "grp = re.search(r'([\\d]{2})-([\\d]{2})-([\\d]{4})','14-07-2023')\n",
        "print(grp.group(3))"
      ]
    },
    {
      "cell_type": "code",
      "execution_count": 65,
      "metadata": {
        "trusted": true
      },
      "outputs": [
        {
          "name": "stdout",
          "output_type": "stream",
          "text": [
            "14\n"
          ]
        }
      ],
      "source": [
        "grp = re.search(r'(?P<dd>[\\d]{2})-(?P<mm>[\\d]{2})-(?P<yyyy>[\\d]{4})', '14-07-2023')\n",
        "print(grp.group('dd'))\n"
      ]
    },
    {
      "cell_type": "code",
      "execution_count": 67,
      "metadata": {
        "trusted": true
      },
      "outputs": [
        {
          "name": "stdout",
          "output_type": "stream",
          "text": [
            "{'dd': '14', 'mm': '07', 'yyyy': '2023'}\n"
          ]
        }
      ],
      "source": [
        "import re\n",
        "\n",
        "grp = re.search(r'(?P<dd>[\\d]{2})-(?P<mm>[\\d]{2})-(?P<yyyy>[\\d]{4})', '14-07-2023')\n",
        "print(grp.groupdict())\n"
      ]
    },
    {
      "cell_type": "code",
      "execution_count": 68,
      "metadata": {
        "trusted": true
      },
      "outputs": [
        {
          "name": "stdout",
          "output_type": "stream",
          "text": [
            "negation: None\n",
            "lookahead: <re.Match object; span=(5, 6), match='n'>\n"
          ]
        }
      ],
      "source": [
        "print('negation:', re.search(r'n[^e]', 'Python'))\n",
        "print('lookahead:', re.search(r'n(?!e)', 'Python'))"
      ]
    },
    {
      "cell_type": "code",
      "execution_count": 69,
      "metadata": {
        "trusted": true
      },
      "outputs": [
        {
          "name": "stdout",
          "output_type": "stream",
          "text": [
            "positive lookahead <re.Match object; span=(5, 6), match='n'>\n"
          ]
        }
      ],
      "source": [
        "print('positive lookahead', re.search(r'n(?=e)', 'jasmine'))"
      ]
    },
    {
      "cell_type": "code",
      "execution_count": 4,
      "metadata": {
        "trusted": true
      },
      "outputs": [
        {
          "name": "stdout",
          "output_type": "stream",
          "text": [
            "1111222233334444\n"
          ]
        }
      ],
      "source": [
        "print(re.sub(r'([\\d]{4})-([\\d]{4})-([\\d]{4})-([\\d]{4})',r'\\1\\2\\3\\4',\n",
        "'1111-2222-3333-4444'))"
      ]
    },
    {
      "cell_type": "code",
      "execution_count": 3,
      "metadata": {
        "trusted": true
      },
      "outputs": [
        {
          "name": "stdout",
          "output_type": "stream",
          "text": [
            "compiled reg expr <re.Match object; span=(0, 10), match='13-07-2023'>\n",
            "13.07.2023\n"
          ]
        }
      ],
      "source": [
        "regex = re.compile(r'([\\d]{2})-([\\d]{2})-([\\d]{4})')\n",
        "# search method\n",
        "print('compiled reg expr', regex.search('13-07-2023'))\n",
        "# sub method\n",
        "print(regex.sub(r'\\1.\\2.\\3', '13-07-2023'))"
      ]
    },
    {
      "cell_type": "code",
      "execution_count": null,
      "metadata": {},
      "outputs": [],
      "source": []
    }
  ],
  "metadata": {
    "kernelspec": {
      "display_name": "Python 3",
      "language": "python",
      "name": "python3"
    },
    "language_info": {
      "codemirror_mode": {
        "name": "ipython",
        "version": 3
      },
      "file_extension": ".py",
      "mimetype": "text/x-python",
      "name": "python",
      "nbconvert_exporter": "python",
      "pygments_lexer": "ipython3",
      "version": "3.10.12"
    }
  },
  "nbformat": 4,
  "nbformat_minor": 4
}
